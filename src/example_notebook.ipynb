{
 "cells": [
  {
   "cell_type": "markdown",
   "metadata": {},
   "source": [
    "# Knowledge graph embedding learning example notebook"
   ]
  },
  {
   "cell_type": "markdown",
   "metadata": {},
   "source": [
    "### Importing torch and related modules\n",
    "#### architechures\n",
    "The 'architechures' module contanins different implementations of various state-of-the-art architechures currently used in practice for learning knowledge graph embedding. Currently it supports HOLE, ComplEx and QuatE architechures, on which more details can be found in the 'papers' directory. \n",
    "The architechures are implemented in PyTorch such that it can further be used along with different dense net architechures and can directly be called in the main neural networks pipeline in PyTorch.\n",
    "\n",
    "#### models\n",
    "The 'models' module contains the training and testing implementations for sequential neural networks. Furthermore distributed training can be implemented in the same module and can be used without much changes in the main pipeline.\n",
    "\n",
    "#### preprocessing\n",
    "The 'preprocessing' module contains 'DataGenerator' class which takes care of all the data cleaning, synthesis and processing them into batches and some other utility functions for one-hot-encodings etc. The only argument required by the module is .nt format file path containing triplet dataset (triplet in each row). The indices for false triplets are generated using uniform distribution and for more details refer to the source code."
   ]
  },
  {
   "cell_type": "code",
   "execution_count": 31,
   "metadata": {},
   "outputs": [],
   "source": [
    "from KG.architechures import HOLE, ComplEx, QuatE\n",
    "from KG.models import Network\n",
    "import torch\n",
    "from torch import nn\n",
    "import numpy as np\n",
    "from KG.preprocessing import DataGenerator\n",
    "from sklearn.model_selection import train_test_split"
   ]
  },
  {
   "cell_type": "markdown",
   "metadata": {},
   "source": [
    "\n",
    "### Data preprocessing\n",
    "The load_dataset method takes input the .nt format file complete file path. The method internally identifies the triplets (which are true) from the dataset and map them to integers to prepare the true fact dataset. The false facts are synthesise using randomly generated indices for adjacency matrix of the triplet. The final dataset contains equal number of true and false facts between the entities and relation."
   ]
  },
  {
   "cell_type": "code",
   "execution_count": 32,
   "metadata": {},
   "outputs": [
    {
     "name": "stdout",
     "output_type": "stream",
     "text": [
      "[[129  95   8]\n",
      " [ 69   9  16]\n",
      " [227  14  13]\n",
      " ...\n",
      " [157 131  16]\n",
      " [136  95  14]\n",
      " [144   9  17]] [[1.]\n",
      " [1.]\n",
      " [0.]\n",
      " ...\n",
      " [0.]\n",
      " [1.]\n",
      " [1.]]\n"
     ]
    }
   ],
   "source": [
    "# loading the dataset from the .nt file containing complete dataset\n",
    "obj = DataGenerator()\n",
    "X, y, num_entities, num_relations = obj.load_dataset(\"/home/bhavya/Desktop/projects/KG-Embedding-Learning---PyTorch/dataset/siemens data/01.nt\")\n",
    "print(X, y)\n",
    "\n",
    "# split dataset randomly in training and testing\n",
    "x_train, x_test, y_train, y_test = train_test_split(X, y, test_size=0.33, random_state=0)"
   ]
  },
  {
   "cell_type": "markdown",
   "metadata": {},
   "source": [
    "### Declaring values for hyperparameters (including dimensions of embeddings)"
   ]
  },
  {
   "cell_type": "code",
   "execution_count": 33,
   "metadata": {},
   "outputs": [],
   "source": [
    "# declaring hyperparameters\n",
    "num_dim = 10  # dimension of embedding vector\n",
    "alpha = 0  # coefficient of regularization term\n",
    "batch_size = 20  # backprop for this many combined datapoints\n",
    "num_epochs = 10  # number of loops over training dataset"
   ]
  },
  {
   "cell_type": "markdown",
   "metadata": {},
   "source": [
    "### Building the model \n",
    "Example uses 'QuatE' object but other architechures can also be used to experiment with and benchmark the performance. "
   ]
  },
  {
   "cell_type": "code",
   "execution_count": 44,
   "metadata": {},
   "outputs": [],
   "source": [
    "model = Network(QuatE(num_dim, num_entities, num_relations))  # choosing QuatE (latest) architechure\n",
    "model.compile(optimizer_name=\"adam\", loss=\"LogisticLoss\", regularizer=\"L2\", alpha=alpha)  # compiling the model"
   ]
  },
  {
   "cell_type": "markdown",
   "metadata": {},
   "source": [
    "### Training on the dataset\n",
    "The plot shown below is training loss (red) and validation loss (blue) vs number of epochs. The plot can be used to observe for the early stopping criteria with different regularization coefficients (alpha, default=0)"
   ]
  },
  {
   "cell_type": "code",
   "execution_count": 45,
   "metadata": {},
   "outputs": [
    {
     "name": "stdout",
     "output_type": "stream",
     "text": [
      "epoch no.  1\n",
      "accuracy on validation set:  0.4981481481481482\n",
      "epoch no.  2\n",
      "accuracy on validation set:  0.5314814814814814\n",
      "epoch no.  3\n",
      "accuracy on validation set:  0.5938271604938272\n",
      "epoch no.  4\n",
      "accuracy on validation set:  0.5938271604938272\n",
      "epoch no.  5\n",
      "accuracy on validation set:  0.5993827160493826\n",
      "epoch no.  6\n",
      "accuracy on validation set:  0.6049382716049383\n",
      "epoch no.  7\n",
      "accuracy on validation set:  0.6104938271604938\n",
      "epoch no.  8\n",
      "accuracy on validation set:  0.6104938271604938\n",
      "epoch no.  9\n",
      "accuracy on validation set:  0.6160493827160495\n",
      "epoch no.  10\n",
      "accuracy on validation set:  0.6160493827160495\n"
     ]
    },
    {
     "data": {
      "image/png": "[encoded data removed]",
      "text/plain": [
       "<Figure size 432x288 with 1 Axes>"
      ]
     },
     "metadata": {},
     "output_type": "display_data"
    }
   ],
   "source": [
    "model.fit(x_train, y_train, batch_size, num_epochs, validation_split=0.2)"
   ]
  },
  {
   "cell_type": "markdown",
   "metadata": {},
   "source": [
    "### Performance Evaluation on testing dataset\n",
    "The performance is evaluated on unseen testing dataset."
   ]
  },
  {
   "cell_type": "code",
   "execution_count": 46,
   "metadata": {},
   "outputs": [
    {
     "name": "stdout",
     "output_type": "stream",
     "text": [
      "accuracy on testing set:  63.942307692307686\n"
     ]
    }
   ],
   "source": [
    "from sklearn.metrics import accuracy_score\n",
    "\n",
    "y_pred = torch.gt(model.predict(x_test), 0.5).long().numpy()\n",
    "accuracy = accuracy_score(y_test, y_pred)\n",
    "print(\"accuracy on testing set: \", accuracy * 100)\n"
   ]
  }
 ],
 "metadata": {
  "kernelspec": {
   "display_name": "Python 3",
   "language": "python",
   "name": "python3"
  },
  "language_info": {
   "codemirror_mode": {
    "name": "ipython",
    "version": 3
   },
   "file_extension": ".py",
   "mimetype": "text/x-python",
   "name": "python",
   "nbconvert_exporter": "python",
   "pygments_lexer": "ipython3",
   "version": "3.6.5"
  }
 },
 "nbformat": 4,
 "nbformat_minor": 2
}
